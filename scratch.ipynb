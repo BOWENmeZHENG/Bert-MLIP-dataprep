{
 "cells": [
  {
   "cell_type": "code",
   "execution_count": 6,
   "id": "241ed854",
   "metadata": {},
   "outputs": [],
   "source": [
    "import utils\n",
    "import json"
   ]
  },
  {
   "cell_type": "code",
   "execution_count": 2,
   "id": "3a6beb30",
   "metadata": {},
   "outputs": [],
   "source": [
    "with open('try.txt') as f:\n",
    "    content = f.readlines()\n",
    "abstract = content[0]"
   ]
  },
  {
   "cell_type": "code",
   "execution_count": 3,
   "id": "507b4f41",
   "metadata": {},
   "outputs": [
    {
     "name": "stdout",
     "output_type": "stream",
     "text": [
      "The surface properties of solid-state materials often dictate their functionality, especially for applications where nanoscale effects become important. \n",
      "\n",
      "What's the category for 'The'? 1\n",
      "What's the category for 'surface'? 1\n",
      "What's the category for 'properties'? 1\n",
      "What's the category for 'of'? 1\n",
      "What's the category for 'solid'? 1\n",
      "What's the category for '-'? 1\n",
      "What's the category for 'state'? 1\n",
      "What's the category for 'materials'? 1\n",
      "What's the category for 'often'? 1\n",
      "What's the category for 'dictate'? 1\n",
      "What's the category for 'their'? 1\n",
      "What's the category for 'functionality'? 1\n",
      "What's the category for ','? 1\n",
      "What's the category for 'especially'? 1\n",
      "What's the category for 'for'? 1\n",
      "What's the category for 'applications'? 1\n",
      "What's the category for 'where'? 1\n",
      "What's the category for 'nanoscale'? 1\n",
      "What's the category for 'effects'? 1\n",
      "What's the category for 'become'? 1\n",
      "What's the category for 'important'? 1\n",
      "What's the category for '.'? 1\n",
      "['The', 'surface', 'properties', 'of', 'solid', '-', 'state', 'materials', 'often', 'dictate', 'their', 'functionality', ',', 'especially', 'for', 'applications', 'where', 'nanoscale', 'effects', 'become', 'important', '.']\n",
      "['1', '1', '1', '1', '1', '1', '1', '1', '1', '1', '1', '1', '1', '1', '1', '1', '1', '1', '1', '1', '1', '1']\n"
     ]
    }
   ],
   "source": [
    "word_list, categories = utils.annotate(abstract)\n",
    "print(word_list)\n",
    "print(categories)"
   ]
  },
  {
   "cell_type": "code",
   "execution_count": 5,
   "id": "01d7922e",
   "metadata": {},
   "outputs": [],
   "source": [
    "test = utils.to_json(word_list, categories)"
   ]
  },
  {
   "cell_type": "code",
   "execution_count": 10,
   "id": "d24ad903",
   "metadata": {},
   "outputs": [],
   "source": [
    "with open(\"test.json\", \"w\") as f:\n",
    "    f.write('')\n",
    "with open(\"test.json\", \"a\") as ff: \n",
    "    json.dump(test, ff)"
   ]
  },
  {
   "cell_type": "code",
   "execution_count": null,
   "id": "8e0b60ad",
   "metadata": {},
   "outputs": [],
   "source": []
  }
 ],
 "metadata": {
  "kernelspec": {
   "display_name": "Python 3 (ipykernel)",
   "language": "python",
   "name": "python3"
  },
  "language_info": {
   "codemirror_mode": {
    "name": "ipython",
    "version": 3
   },
   "file_extension": ".py",
   "mimetype": "text/x-python",
   "name": "python",
   "nbconvert_exporter": "python",
   "pygments_lexer": "ipython3",
   "version": "3.10.13"
  }
 },
 "nbformat": 4,
 "nbformat_minor": 5
}
