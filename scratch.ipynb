{
 "cells": [
  {
   "cell_type": "code",
   "execution_count": 1,
   "id": "f54e12b0",
   "metadata": {},
   "outputs": [],
   "source": [
    "import utils\n",
    "import json"
   ]
  },
  {
   "cell_type": "code",
   "execution_count": 2,
   "id": "69fb5397",
   "metadata": {},
   "outputs": [],
   "source": [
    "with open('try.txt') as f:\n",
    "    content = f.readlines()\n",
    "abstract = content[0]"
   ]
  },
  {
   "cell_type": "code",
   "execution_count": 3,
   "id": "0ee62867",
   "metadata": {},
   "outputs": [
    {
     "name": "stdout",
     "output_type": "stream",
     "text": [
      "The surface properties of solid-state materials often dictate their functionality, especially for applications where nanoscale effects become important. The relevant surface(s) and their properties are determined, in large part, by the material's synthesis or operating conditions.\n",
      "\n",
      "What's the category for 'The'? 0\n",
      "What's the category for 'surface'? 0\n",
      "What's the category for 'properties'? 0\n",
      "What's the category for 'of'? 0\n",
      "What's the category for 'solid'? 1\n",
      "What's the category for '-'? 1\n",
      "What's the category for 'state'? 1\n",
      "What's the category for 'materials'? 1\n",
      "What's the category for 'often'? 0\n",
      "What's the category for 'dictate'? 0\n",
      "What's the category for 'their'? 0\n",
      "What's the category for 'functionality'? 0\n",
      "What's the category for ','? 0\n",
      "What's the category for 'especially'? 0\n",
      "What's the category for 'for'? 0\n",
      "What's the category for 'applications'? 0\n",
      "What's the category for 'where'? 0\n",
      "What's the category for 'nanoscale'? 0\n",
      "What's the category for 'effects'? 0\n",
      "What's the category for 'become'? 0\n",
      "What's the category for 'important'? 0\n",
      "What's the category for '.'? 0\n",
      "\n",
      "The surface properties of solid-state materials often dictate their functionality, especially for applications where nanoscale effects become important. The relevant surface(s) and their properties are determined, in large part, by the material's synthesis or operating conditions.\n",
      "\n",
      "What's the category for 'The'? 0\n",
      "What's the category for 'relevant'? 0\n",
      "What's the category for 'surface'? 0\n",
      "What's the category for '('? 0\n",
      "What's the category for 's'? 0\n",
      "What's the category for ')'? 0\n",
      "What's the category for 'and'? 0\n",
      "What's the category for 'their'? 0\n",
      "What's the category for 'properties'? 0\n",
      "What's the category for 'are'? 0\n",
      "What's the category for 'determined'? 0\n",
      "What's the category for ','? 0\n",
      "What's the category for 'in'? 0\n",
      "What's the category for 'large'? 0\n",
      "What's the category for 'part'? 0\n",
      "What's the category for ','? 0\n",
      "What's the category for 'by'? 0\n",
      "What's the category for 'the'? 0\n",
      "What's the category for 'material's'? 0\n",
      "What's the category for 'synthesis'? 0\n",
      "What's the category for 'or'? 0\n",
      "What's the category for 'operating'? 0\n",
      "What's the category for 'conditions'? 0\n",
      "What's the category for '.'? 0\n",
      "\n",
      "The surface properties of solid-state materials often dictate their functionality, especially for applications where nanoscale effects become important. The relevant surface(s) and their properties are determined, in large part, by the material's synthesis or operating conditions.\n",
      "\n"
     ]
    }
   ],
   "source": [
    "word_list, categories = utils.annotate(abstract, 'try')"
   ]
  },
  {
   "cell_type": "code",
   "execution_count": null,
   "id": "6944178e",
   "metadata": {},
   "outputs": [],
   "source": []
  }
 ],
 "metadata": {
  "kernelspec": {
   "display_name": "Python 3 (ipykernel)",
   "language": "python",
   "name": "python3"
  },
  "language_info": {
   "codemirror_mode": {
    "name": "ipython",
    "version": 3
   },
   "file_extension": ".py",
   "mimetype": "text/x-python",
   "name": "python",
   "nbconvert_exporter": "python",
   "pygments_lexer": "ipython3",
   "version": "3.10.13"
  }
 },
 "nbformat": 4,
 "nbformat_minor": 5
}
