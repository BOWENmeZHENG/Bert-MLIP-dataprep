{
 "cells": [
  {
   "cell_type": "code",
   "execution_count": 1,
   "id": "d6ac2ea1",
   "metadata": {},
   "outputs": [],
   "source": [
    "import utils"
   ]
  },
  {
   "cell_type": "code",
   "execution_count": 2,
   "id": "48112aba",
   "metadata": {},
   "outputs": [],
   "source": [
    "with open('try.txt') as f:\n",
    "    content = f.readlines()\n",
    "abstract = content[0]"
   ]
  },
  {
   "cell_type": "code",
   "execution_count": 4,
   "id": "90ac383a",
   "metadata": {},
   "outputs": [
    {
     "name": "stdout",
     "output_type": "stream",
     "text": [
      "The surface properties of solid-state materials often dictate their functionality, especially for applications where nanoscale effects become important. \n",
      "\n",
      "What's the category for 'The'? 0\n",
      "What's the category for 'surface'? 0\n",
      "What's the category for 'properties'? 0\n",
      "What's the category for 'of'? 0\n",
      "What's the category for 'solid'? 1\n",
      "What's the category for '-'? 1\n",
      "What's the category for 'state'? 1\n",
      "What's the category for 'materials'? 1\n",
      "What's the category for 'often'? 0\n",
      "What's the category for 'dictate'? 0\n",
      "What's the category for 'their'? 0\n",
      "What's the category for 'functionality'? 0\n",
      "What's the category for ','? 0\n",
      "What's the category for 'especially'? 0\n",
      "What's the category for 'for'? 0\n",
      "What's the category for 'applications'? 0\n",
      "What's the category for 'where'? 0\n",
      "What's the category for 'nanoscale'? 0\n",
      "What's the category for 'effects'? 0\n",
      "What's the category for 'become'? 0\n",
      "What's the category for 'important'? 0\n",
      "What's the category for '.'? 0\n",
      "Words:\n",
      "['The', 'surface', 'properties', 'of', 'solid', '-', 'state', 'materials', 'often', 'dictate', 'their', 'functionality', ',', 'especially', 'for', 'applications', 'where', 'nanoscale', 'effects', 'become', 'important', '.']\n",
      "Categories\n",
      "['0', '0', '0', '0', '1', '1', '1', '1', '0', '0', '0', '0', '0', '0', '0', '0', '0', '0', '0', '0', '0', '0']\n"
     ]
    }
   ],
   "source": [
    "word_list, categories = utils.annotate(abstract)\n",
    "print(\"Words:\")\n",
    "print(word_list)\n",
    "print(\"Categories\")\n",
    "print(categories)"
   ]
  },
  {
   "cell_type": "code",
   "execution_count": null,
   "id": "3f356947",
   "metadata": {},
   "outputs": [],
   "source": []
  }
 ],
 "metadata": {
  "kernelspec": {
   "display_name": "Python 3 (ipykernel)",
   "language": "python",
   "name": "python3"
  },
  "language_info": {
   "codemirror_mode": {
    "name": "ipython",
    "version": 3
   },
   "file_extension": ".py",
   "mimetype": "text/x-python",
   "name": "python",
   "nbconvert_exporter": "python",
   "pygments_lexer": "ipython3",
   "version": "3.10.13"
  }
 },
 "nbformat": 4,
 "nbformat_minor": 5
}
