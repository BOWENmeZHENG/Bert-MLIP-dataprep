{
 "cells": [
  {
   "cell_type": "code",
   "execution_count": 1,
   "id": "d4b7e40c",
   "metadata": {},
   "outputs": [],
   "source": [
    "import utils"
   ]
  },
  {
   "cell_type": "code",
   "execution_count": 2,
   "id": "2a91f695",
   "metadata": {},
   "outputs": [],
   "source": [
    "with open('try.txt') as f:\n",
    "    content = f.readlines()\n",
    "abstract = content[0]"
   ]
  },
  {
   "cell_type": "code",
   "execution_count": null,
   "id": "e0f98d5e",
   "metadata": {},
   "outputs": [
    {
     "name": "stdout",
     "output_type": "stream",
     "text": [
      "The surface properties of solid-state materials often dictate their functionality, especially for applications where nanoscale effects become important. \n",
      "\n",
      "What's the category for 'The'? 0\n",
      "What's the category for 'surface'? 0\n",
      "What's the category for 'properties'? 0\n",
      "What's the category for 'of'? 0\n",
      "What's the category for 'solid'? 1\n",
      "What's the category for '-'? 1\n",
      "What's the category for 'state'? 1\n",
      "What's the category for 'materials'? 1\n",
      "What's the category for 'often'? 0\n",
      "What's the category for 'dictate'? 0\n",
      "What's the category for 'their'? 0\n",
      "What's the category for 'functionality'? 0\n",
      "What's the category for ','? 0\n",
      "What's the category for 'especially'? 0\n",
      "What's the category for 'for'? 0\n",
      "What's the category for 'applications'? 0\n",
      "What's the category for 'where'? 0\n"
     ]
    }
   ],
   "source": [
    "word_list, categories = utils.annotate(abstract)\n",
    "print(word_list)\n",
    "print(categories)"
   ]
  },
  {
   "cell_type": "code",
   "execution_count": null,
   "id": "97b8c198",
   "metadata": {},
   "outputs": [],
   "source": []
  }
 ],
 "metadata": {
  "kernelspec": {
   "display_name": "Python 3 (ipykernel)",
   "language": "python",
   "name": "python3"
  },
  "language_info": {
   "codemirror_mode": {
    "name": "ipython",
    "version": 3
   },
   "file_extension": ".py",
   "mimetype": "text/x-python",
   "name": "python",
   "nbconvert_exporter": "python",
   "pygments_lexer": "ipython3",
   "version": "3.10.13"
  }
 },
 "nbformat": 4,
 "nbformat_minor": 5
}
