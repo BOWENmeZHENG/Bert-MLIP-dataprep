{
 "cells": [
  {
   "cell_type": "code",
   "execution_count": 1,
   "id": "3ea54b1e",
   "metadata": {},
   "outputs": [],
   "source": [
    "import utils"
   ]
  },
  {
   "cell_type": "code",
   "execution_count": 2,
   "id": "3b7f728f",
   "metadata": {},
   "outputs": [
    {
     "name": "stdout",
     "output_type": "stream",
     "text": [
      "Number of entries: 102\n"
     ]
    }
   ],
   "source": [
    "data_all = utils.load_json('src_data/2024-02-14_sciencedirect_machine+learning+interatomic+potential_120.json')\n",
    "data_all = [d for d in data_all if d['abstract'] != None]\n",
    "# CLASSES = {'MATERIAL': 1, 'MLIP': 2, 'PROPERTY': 3, 'SIMULATION': 4, 'O': 0}\n",
    "print(f\"Number of entries: {len(data_all)}\")"
   ]
  },
  {
   "cell_type": "code",
   "execution_count": 3,
   "id": "9dcce005",
   "metadata": {
    "scrolled": true
   },
   "outputs": [
    {
     "name": "stdout",
     "output_type": "stream",
     "text": [
      "Zirconium alloys are pivotal structural materials in nuclear reactors. Enhancing their properties and performance necessitates a profound understanding of the interactions between alloying elements and lattice defects. However, the atomic-level mechanisms that account for the effects of tin (Sn) on irradiation-induced defect evolution in zirconium (Zr) are not well understood yet. To bridge this gap, we conducted extensive first-principles calculations and utilized the obtained data to develop two interatomic potentials for the Zr-Sn system: a Zr-Sn moment tensor machine learning interatomic potential (MTP) and a modified embedded atom potential (MEAM) built upon existing unary ones. The reliability of the constructed potentials was validated through systematically comparing relevant physical properties of pure Zr, Sn metals, and Zr-Sn solid solutions, calculated using these potentials, to values obtained from density functional theory calculations and/or experiments. The developed potentials exhibit high fidelity and accuracy in capturing the behavior of the Zr-Sn system. Their applicability in terms of both reliability and computational efficiency was also discussed. These potentials provide a solid foundation for further exploration of the atomic-scale behavior of the Zr-Sn alloy systems, thereby facilitating the continuous optimization and application of the zirconium alloys.\n",
      "What's the category for 'Zirconium'? 1\n",
      "What's the category for 'alloys'? 1\n",
      "What's the category for 'are'? 0\n",
      "What's the category for 'pivotal'? 0\n",
      "What's the category for 'structural'? 0\n",
      "What's the category for 'materials'? 0\n",
      "What's the category for 'in'? 0\n",
      "What's the category for 'nuclear'? 0\n",
      "What's the category for 'reactors'? 0\n",
      "What's the category for '.'? 0\n",
      "\n",
      ". Enhancing their properties and performance necessitates a profound understanding of the interactions between alloying elements and lattice defects . However , the atomic - level mechanisms that account for the effects of tin ( Sn ) on irradiation - induced defect evolution in zirconium ( Zr ) are not well understood yet . To bridge this gap , we conducted extensive first - principles calculations and utilized the obtained data to develop two interatomic potentials for the Zr - Sn system a Zr - Sn moment tensor machine learning interatomic potential ( MTP ) and a modified embedded atom potential ( MEAM ) built upon existing unary ones . The reliability of the constructed potentials was validated through systematically comparing relevant physical properties of pure Zr , Sn metals , and Zr - Sn solid solutions , calculated using these potentials , to values obtained from density functional theory calculations and / or experiments . The developed potentials exhibit high fidelity and accuracy in capturing the behavior of the Zr - Sn system . Their applicability in terms of both reliability and computational efficiency was also discussed . These potentials provide a solid foundation for further exploration of the atomic - scale behavior of the Zr - Sn alloy systems , thereby facilitating the continuous optimization and application of the zirconium alloys .\n",
      "What's the category for 'Enhancing'? 0\n",
      "What's the category for 'their'? 0\n",
      "What's the category for 'properties'? 0\n",
      "What's the category for 'and'? 0\n",
      "What's the category for 'performance'? 0\n",
      "What's the category for 'necessitates'? 0\n",
      "What's the category for 'a'? 0\n",
      "What's the category for 'profound'? 0\n",
      "What's the category for 'understanding'? 0\n",
      "What's the category for 'of'? 0\n",
      "\n",
      "of the interactions between alloying elements and lattice defects . However , the atomic - level mechanisms that account for the effects of tin ( Sn ) on irradiation - induced defect evolution in zirconium ( Zr ) are not well understood yet . To bridge this gap , we conducted extensive first - principles calculations and utilized the obtained data to develop two interatomic potentials for the Zr - Sn system a Zr - Sn moment tensor machine learning interatomic potential ( MTP ) and a modified embedded atom potential ( MEAM ) built upon existing unary ones . The reliability of the constructed potentials was validated through systematically comparing relevant physical properties of pure Zr , Sn metals , and Zr - Sn solid solutions , calculated using these potentials , to values obtained from density functional theory calculations and / or experiments . The developed potentials exhibit high fidelity and accuracy in capturing the behavior of the Zr - Sn system . Their applicability in terms of both reliability and computational efficiency was also discussed . These potentials provide a solid foundation for further exploration of the atomic - scale behavior of the Zr - Sn alloy systems , thereby facilitating the continuous optimization and application of the zirconium alloys .\n",
      "What's the category for 'the'? 0\n",
      "What's the category for 'interactions'? 0\n",
      "What's the category for 'between'? 0\n",
      "What's the category for 'alloying'? 0\n",
      "What's the category for 'elements'? 0\n",
      "What's the category for 'and'? 0\n",
      "What's the category for 'lattice'? 0\n",
      "What's the category for 'defects'? 0\n",
      "What's the category for '.'? 0\n",
      "What's the category for 'However'? 0\n",
      "\n",
      "However , the atomic - level mechanisms that account for the effects of tin ( Sn ) on irradiation - induced defect evolution in zirconium ( Zr ) are not well understood yet . To bridge this gap , we conducted extensive first - principles calculations and utilized the obtained data to develop two interatomic potentials for the Zr - Sn system a Zr - Sn moment tensor machine learning interatomic potential ( MTP ) and a modified embedded atom potential ( MEAM ) built upon existing unary ones . The reliability of the constructed potentials was validated through systematically comparing relevant physical properties of pure Zr , Sn metals , and Zr - Sn solid solutions , calculated using these potentials , to values obtained from density functional theory calculations and / or experiments . The developed potentials exhibit high fidelity and accuracy in capturing the behavior of the Zr - Sn system . Their applicability in terms of both reliability and computational efficiency was also discussed . These potentials provide a solid foundation for further exploration of the atomic - scale behavior of the Zr - Sn alloy systems , thereby facilitating the continuous optimization and application of the zirconium alloys .\n",
      "What's the category for ','? 0\n",
      "What's the category for 'the'? 0\n",
      "What's the category for 'atomic'? 0\n",
      "What's the category for '-'? 0\n",
      "What's the category for 'level'? 0\n",
      "What's the category for 'mechanisms'? 0\n",
      "What's the category for 'that'? 0\n",
      "What's the category for 'account'? 0\n",
      "What's the category for 'for'? 0\n"
     ]
    },
    {
     "ename": "KeyboardInterrupt",
     "evalue": "Interrupted by user",
     "output_type": "error",
     "traceback": [
      "\u001b[0;31m---------------------------------------------------------------------------\u001b[0m",
      "\u001b[0;31mKeyboardInterrupt\u001b[0m                         Traceback (most recent call last)",
      "Cell \u001b[0;32mIn[3], line 3\u001b[0m\n\u001b[1;32m      1\u001b[0m index \u001b[38;5;241m=\u001b[39m \u001b[38;5;241m1\u001b[39m\n\u001b[1;32m      2\u001b[0m name \u001b[38;5;241m=\u001b[39m data_all[index][\u001b[38;5;124m'\u001b[39m\u001b[38;5;124mprism:doi\u001b[39m\u001b[38;5;124m'\u001b[39m]\u001b[38;5;241m.\u001b[39mreplace(\u001b[38;5;124m'\u001b[39m\u001b[38;5;124m/\u001b[39m\u001b[38;5;124m'\u001b[39m, \u001b[38;5;124m'\u001b[39m\u001b[38;5;124m'\u001b[39m)\n\u001b[0;32m----> 3\u001b[0m word_list, categories \u001b[38;5;241m=\u001b[39m \u001b[43mutils\u001b[49m\u001b[38;5;241;43m.\u001b[39;49m\u001b[43mannotate\u001b[49m\u001b[43m(\u001b[49m\u001b[43mdata_all\u001b[49m\u001b[43m[\u001b[49m\u001b[43mindex\u001b[49m\u001b[43m]\u001b[49m\u001b[43m[\u001b[49m\u001b[38;5;124;43m'\u001b[39;49m\u001b[38;5;124;43mabstract\u001b[39;49m\u001b[38;5;124;43m'\u001b[39;49m\u001b[43m]\u001b[49m\u001b[43m,\u001b[49m\u001b[43m \u001b[49m\u001b[43mname\u001b[49m\u001b[43m)\u001b[49m\n",
      "File \u001b[0;32m~/Desktop/elsevier/Bert-MLIP-dataprep/utils.py:21\u001b[0m, in \u001b[0;36mannotate\u001b[0;34m(para, name)\u001b[0m\n\u001b[1;32m     18\u001b[0m categories \u001b[38;5;241m=\u001b[39m []\n\u001b[1;32m     20\u001b[0m \u001b[38;5;28;01mfor\u001b[39;00m i, word \u001b[38;5;129;01min\u001b[39;00m \u001b[38;5;28menumerate\u001b[39m(word_list):\n\u001b[0;32m---> 21\u001b[0m     c \u001b[38;5;241m=\u001b[39m \u001b[38;5;28;43minput\u001b[39;49m\u001b[43m(\u001b[49m\u001b[38;5;124;43mf\u001b[39;49m\u001b[38;5;124;43m\"\u001b[39;49m\u001b[38;5;124;43mWhat\u001b[39;49m\u001b[38;5;124;43m'\u001b[39;49m\u001b[38;5;124;43ms the category for \u001b[39;49m\u001b[38;5;124;43m'\u001b[39;49m\u001b[38;5;132;43;01m{\u001b[39;49;00m\u001b[43mword\u001b[49m\u001b[38;5;132;43;01m}\u001b[39;49;00m\u001b[38;5;124;43m'\u001b[39;49m\u001b[38;5;124;43m? \u001b[39;49m\u001b[38;5;124;43m\"\u001b[39;49m\u001b[43m)\u001b[49m\n\u001b[1;32m     22\u001b[0m     categories\u001b[38;5;241m.\u001b[39mappend(c)\n\u001b[1;32m     23\u001b[0m     \u001b[38;5;28;01mif\u001b[39;00m (i \u001b[38;5;241m+\u001b[39m \u001b[38;5;241m1\u001b[39m) \u001b[38;5;241m%\u001b[39m \u001b[38;5;241m10\u001b[39m \u001b[38;5;241m==\u001b[39m \u001b[38;5;241m0\u001b[39m:\n",
      "File \u001b[0;32m~/.local/lib/python3.10/site-packages/ipykernel/kernelbase.py:1177\u001b[0m, in \u001b[0;36mKernel.raw_input\u001b[0;34m(self, prompt)\u001b[0m\n\u001b[1;32m   1173\u001b[0m \u001b[38;5;28;01mif\u001b[39;00m \u001b[38;5;129;01mnot\u001b[39;00m \u001b[38;5;28mself\u001b[39m\u001b[38;5;241m.\u001b[39m_allow_stdin:\n\u001b[1;32m   1174\u001b[0m     \u001b[38;5;28;01mraise\u001b[39;00m StdinNotImplementedError(\n\u001b[1;32m   1175\u001b[0m         \u001b[38;5;124m\"\u001b[39m\u001b[38;5;124mraw_input was called, but this frontend does not support input requests.\u001b[39m\u001b[38;5;124m\"\u001b[39m\n\u001b[1;32m   1176\u001b[0m     )\n\u001b[0;32m-> 1177\u001b[0m \u001b[38;5;28;01mreturn\u001b[39;00m \u001b[38;5;28;43mself\u001b[39;49m\u001b[38;5;241;43m.\u001b[39;49m\u001b[43m_input_request\u001b[49m\u001b[43m(\u001b[49m\n\u001b[1;32m   1178\u001b[0m \u001b[43m    \u001b[49m\u001b[38;5;28;43mstr\u001b[39;49m\u001b[43m(\u001b[49m\u001b[43mprompt\u001b[49m\u001b[43m)\u001b[49m\u001b[43m,\u001b[49m\n\u001b[1;32m   1179\u001b[0m \u001b[43m    \u001b[49m\u001b[38;5;28;43mself\u001b[39;49m\u001b[38;5;241;43m.\u001b[39;49m\u001b[43m_parent_ident\u001b[49m\u001b[43m[\u001b[49m\u001b[38;5;124;43m\"\u001b[39;49m\u001b[38;5;124;43mshell\u001b[39;49m\u001b[38;5;124;43m\"\u001b[39;49m\u001b[43m]\u001b[49m\u001b[43m,\u001b[49m\n\u001b[1;32m   1180\u001b[0m \u001b[43m    \u001b[49m\u001b[38;5;28;43mself\u001b[39;49m\u001b[38;5;241;43m.\u001b[39;49m\u001b[43mget_parent\u001b[49m\u001b[43m(\u001b[49m\u001b[38;5;124;43m\"\u001b[39;49m\u001b[38;5;124;43mshell\u001b[39;49m\u001b[38;5;124;43m\"\u001b[39;49m\u001b[43m)\u001b[49m\u001b[43m,\u001b[49m\n\u001b[1;32m   1181\u001b[0m \u001b[43m    \u001b[49m\u001b[43mpassword\u001b[49m\u001b[38;5;241;43m=\u001b[39;49m\u001b[38;5;28;43;01mFalse\u001b[39;49;00m\u001b[43m,\u001b[49m\n\u001b[1;32m   1182\u001b[0m \u001b[43m\u001b[49m\u001b[43m)\u001b[49m\n",
      "File \u001b[0;32m~/.local/lib/python3.10/site-packages/ipykernel/kernelbase.py:1219\u001b[0m, in \u001b[0;36mKernel._input_request\u001b[0;34m(self, prompt, ident, parent, password)\u001b[0m\n\u001b[1;32m   1216\u001b[0m             \u001b[38;5;28;01mbreak\u001b[39;00m\n\u001b[1;32m   1217\u001b[0m \u001b[38;5;28;01mexcept\u001b[39;00m \u001b[38;5;167;01mKeyboardInterrupt\u001b[39;00m:\n\u001b[1;32m   1218\u001b[0m     \u001b[38;5;66;03m# re-raise KeyboardInterrupt, to truncate traceback\u001b[39;00m\n\u001b[0;32m-> 1219\u001b[0m     \u001b[38;5;28;01mraise\u001b[39;00m \u001b[38;5;167;01mKeyboardInterrupt\u001b[39;00m(\u001b[38;5;124m\"\u001b[39m\u001b[38;5;124mInterrupted by user\u001b[39m\u001b[38;5;124m\"\u001b[39m) \u001b[38;5;28;01mfrom\u001b[39;00m \u001b[38;5;28;01mNone\u001b[39;00m\n\u001b[1;32m   1220\u001b[0m \u001b[38;5;28;01mexcept\u001b[39;00m \u001b[38;5;167;01mException\u001b[39;00m:\n\u001b[1;32m   1221\u001b[0m     \u001b[38;5;28mself\u001b[39m\u001b[38;5;241m.\u001b[39mlog\u001b[38;5;241m.\u001b[39mwarning(\u001b[38;5;124m\"\u001b[39m\u001b[38;5;124mInvalid Message:\u001b[39m\u001b[38;5;124m\"\u001b[39m, exc_info\u001b[38;5;241m=\u001b[39m\u001b[38;5;28;01mTrue\u001b[39;00m)\n",
      "\u001b[0;31mKeyboardInterrupt\u001b[0m: Interrupted by user"
     ]
    }
   ],
   "source": [
    "index = 1\n",
    "name = data_all[index]['prism:doi'].replace('/', '')\n",
    "word_list, categories = utils.annotate(data_all[index]['abstract'], name)"
   ]
  },
  {
   "cell_type": "code",
   "execution_count": null,
   "id": "d55d97ed",
   "metadata": {},
   "outputs": [],
   "source": []
  }
 ],
 "metadata": {
  "kernelspec": {
   "display_name": "Python 3 (ipykernel)",
   "language": "python",
   "name": "python3"
  },
  "language_info": {
   "codemirror_mode": {
    "name": "ipython",
    "version": 3
   },
   "file_extension": ".py",
   "mimetype": "text/x-python",
   "name": "python",
   "nbconvert_exporter": "python",
   "pygments_lexer": "ipython3",
   "version": "3.10.13"
  }
 },
 "nbformat": 4,
 "nbformat_minor": 5
}
